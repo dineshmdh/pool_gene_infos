{
 "cells": [
  {
   "cell_type": "markdown",
   "metadata": {},
   "source": [
    "## Learning about the TAD boundaries and domain sizes\n",
    "\n",
    "#### - The source of the TAD input file is this paper: http://www.sciencedirect.com/science/article/pii/S2211124716314814 (Table S3). \n",
    "#### - The hg19.gaps.txt is downloaded from hgdownload.cse.ucsc.edu/goldenPath/hg19/database/gap.txt.gz, and slightly processed (sorted and removed one field).\n",
    "#### - Note that while merging the TAD boundaries later, we will only consider those that are present in at least 20 % of the cell types (i.e. >= 4 out of 21) from this paper.\n",
    "#### - Also, telomere regions and centromere-containing TADs are eventually thrown out. \n",
    "#### - chr17 assembly gap info is missing from the gap file. Similarly, chrY TAD info is missing in the file from the paper. Both of these chromosomes are treated as other chromosomes and telo-/centro-meres are removed as in other chromosomes."
   ]
  },
  {
   "cell_type": "code",
   "execution_count": 1,
   "metadata": {
    "collapsed": true
   },
   "outputs": [],
   "source": [
    "xl_inputFile = \"schmitt_etal_cell2016.xlsx\" # x1 = excel\n",
    "hg19_gapFile = \"hg19.gaps.txt\"  # Some info about the fields in this file is here: https://www.biostars.org/p/59749/ \n",
    "chr17_size = 81195210  # obtained from hg19.chromSizes.txt; hg19.gaps.txt doesn't have chr17 info\n",
    "chrY_size = 59373566  # x1 tad input file does not have chrY info. The whole of chrY minus telomeres and centromeres (i.e. 2 TAD domains) will be designated as chrY TAD domains.\n",
    "num_celltypes_tad_boundary_threshold = 4 # if merged TAD boundary is present in at least this many number of cell types, then the TAD boundary is considered. (others are ignored)"
   ]
  },
  {
   "cell_type": "code",
   "execution_count": 2,
   "metadata": {
    "collapsed": true
   },
   "outputs": [],
   "source": [
    "import pandas as pd\n",
    "import numpy as np\n",
    "from pybedtools import BedTool as bedtools\n",
    "# column names in bedtools object are by default, chrom, start, stop, name, score and strand.\n",
    "\n",
    "import matplotlib.pyplot as plt\n",
    "import seaborn as sns\n",
    "sns.set(font_scale=1.5)\n",
    "\n",
    "%matplotlib inline\n",
    "plt.rcParams['figure.figsize']=(12.0, 5.0)    #(6.0,4.0)\n",
    "plt.rcParams['font.size']=12               #10 \n",
    "plt.rcParams['savefig.dpi']=100             #72 \n",
    "plt.rcParams['figure.subplot.bottom']=0.1  "
   ]
  },
  {
   "cell_type": "code",
   "execution_count": 3,
   "metadata": {
    "collapsed": true
   },
   "outputs": [],
   "source": [
    "'''Load all the TAD boundaries from all cell lines. \n",
    "dfs here is a dict of dfs - one for each cell line.'''\n",
    "dfs_dict_tadboundaries = pd.read_excel(xl_inputFile, sheetname=None, header=None, names=[\"chr\", \"ss\", \"es\"]) # dfs is a dict {cellline:df}"
   ]
  },
  {
   "cell_type": "code",
   "execution_count": 4,
   "metadata": {},
   "outputs": [
    {
     "data": {
      "text/plain": [
       "[u'GM12878',\n",
       " u'H1',\n",
       " u'IMR90',\n",
       " u'MES',\n",
       " u'MSC',\n",
       " u'NPC',\n",
       " u'TRO',\n",
       " u'AD',\n",
       " u'AO',\n",
       " u'BL',\n",
       " u'CO',\n",
       " u'HC',\n",
       " u'LG',\n",
       " u'LI',\n",
       " u'LV',\n",
       " u'OV',\n",
       " u'PA',\n",
       " u'PO',\n",
       " u'RV',\n",
       " u'SB',\n",
       " u'SX']"
      ]
     },
     "execution_count": 4,
     "metadata": {},
     "output_type": "execute_result"
    }
   ],
   "source": [
    "dfs_dict_tadboundaries.keys()"
   ]
  },
  {
   "cell_type": "code",
   "execution_count": 5,
   "metadata": {},
   "outputs": [
    {
     "data": {
      "text/html": [
       "<div>\n",
       "<style>\n",
       "    .dataframe thead tr:only-child th {\n",
       "        text-align: right;\n",
       "    }\n",
       "\n",
       "    .dataframe thead th {\n",
       "        text-align: left;\n",
       "    }\n",
       "\n",
       "    .dataframe tbody tr th {\n",
       "        vertical-align: top;\n",
       "    }\n",
       "</style>\n",
       "<table border=\"1\" class=\"dataframe\">\n",
       "  <thead>\n",
       "    <tr style=\"text-align: right;\">\n",
       "      <th></th>\n",
       "      <th>chr</th>\n",
       "      <th>ss</th>\n",
       "      <th>es</th>\n",
       "    </tr>\n",
       "  </thead>\n",
       "  <tbody>\n",
       "    <tr>\n",
       "      <th>0</th>\n",
       "      <td>chr10</td>\n",
       "      <td>4880000</td>\n",
       "      <td>4920000</td>\n",
       "    </tr>\n",
       "    <tr>\n",
       "      <th>1</th>\n",
       "      <td>chr10</td>\n",
       "      <td>6040000</td>\n",
       "      <td>6080000</td>\n",
       "    </tr>\n",
       "    <tr>\n",
       "      <th>2</th>\n",
       "      <td>chr10</td>\n",
       "      <td>6440000</td>\n",
       "      <td>6480000</td>\n",
       "    </tr>\n",
       "  </tbody>\n",
       "</table>\n",
       "</div>"
      ],
      "text/plain": [
       "     chr       ss       es\n",
       "0  chr10  4880000  4920000\n",
       "1  chr10  6040000  6080000\n",
       "2  chr10  6440000  6480000"
      ]
     },
     "execution_count": 5,
     "metadata": {},
     "output_type": "execute_result"
    }
   ],
   "source": [
    "dfs_dict_tadboundaries[\"IMR90\"].head(3)"
   ]
  },
  {
   "cell_type": "code",
   "execution_count": 6,
   "metadata": {},
   "outputs": [
    {
     "name": "stdout",
     "output_type": "stream",
     "text": [
      "There is a total of 2231 IMR90 TAD boundaries.\n"
     ]
    }
   ],
   "source": [
    "imr90_tads = bedtools.from_dataframe(dfs_dict_tadboundaries[\"IMR90\"]).sort()\n",
    "print(\"There is a total of {} IMR90 TAD boundaries.\".format(imr90_tads.count()))"
   ]
  },
  {
   "cell_type": "code",
   "execution_count": 7,
   "metadata": {},
   "outputs": [
    {
     "name": "stdout",
     "output_type": "stream",
     "text": [
      "(47168, 3)\n"
     ]
    }
   ],
   "source": [
    "'''Concatenate all the tad domains to study their properties together'''\n",
    "all_tads_frames = [] \n",
    "for acellline in dfs_dict_tadboundaries.keys():\n",
    "    all_tads_frames.append( dfs_dict_tadboundaries[acellline] )\n",
    "df_all_tad_boundaries_beforeMerging = pd.concat(all_tads_frames) # note this is not sorted\n",
    "\n",
    "print(df_all_tad_boundaries_beforeMerging.shape)"
   ]
  },
  {
   "cell_type": "code",
   "execution_count": 8,
   "metadata": {},
   "outputs": [
    {
     "name": "stdout",
     "output_type": "stream",
     "text": [
      "('There are a total of ', 5870, ' merged TAD boundaries in these cell lines.')\n"
     ]
    }
   ],
   "source": [
    "'''Now sort and merge the TAD domains'''\n",
    "total_num_tads = bedtools.from_dataframe(df_all_tad_boundaries_beforeMerging).sort().saveas(\"all_tad_boundaries_beforeMerging.bed\").merge().count()\n",
    "print(\"There are a total of \", total_num_tads, \" merged TAD boundaries in these cell lines.\")"
   ]
  },
  {
   "cell_type": "code",
   "execution_count": 9,
   "metadata": {},
   "outputs": [
    {
     "name": "stdout",
     "output_type": "stream",
     "text": [
      "(47168, 3)\n"
     ]
    },
    {
     "data": {
      "text/html": [
       "<div>\n",
       "<style>\n",
       "    .dataframe thead tr:only-child th {\n",
       "        text-align: right;\n",
       "    }\n",
       "\n",
       "    .dataframe thead th {\n",
       "        text-align: left;\n",
       "    }\n",
       "\n",
       "    .dataframe tbody tr th {\n",
       "        vertical-align: top;\n",
       "    }\n",
       "</style>\n",
       "<table border=\"1\" class=\"dataframe\">\n",
       "  <thead>\n",
       "    <tr style=\"text-align: right;\">\n",
       "      <th></th>\n",
       "      <th>chrom</th>\n",
       "      <th>start</th>\n",
       "      <th>stop</th>\n",
       "    </tr>\n",
       "  </thead>\n",
       "  <tbody>\n",
       "    <tr>\n",
       "      <th>716</th>\n",
       "      <td>chr1</td>\n",
       "      <td>2400000</td>\n",
       "      <td>2440000</td>\n",
       "    </tr>\n",
       "    <tr>\n",
       "      <th>733</th>\n",
       "      <td>chr1</td>\n",
       "      <td>2560000</td>\n",
       "      <td>2600000</td>\n",
       "    </tr>\n",
       "  </tbody>\n",
       "</table>\n",
       "</div>"
      ],
      "text/plain": [
       "    chrom    start     stop\n",
       "716  chr1  2400000  2440000\n",
       "733  chr1  2560000  2600000"
      ]
     },
     "execution_count": 9,
     "metadata": {},
     "output_type": "execute_result"
    }
   ],
   "source": [
    "'''Also sorting the original df '''\n",
    "df_all_tad_boundaries_beforeMerging.sort_values(by=[\"chr\", \"ss\"], ascending=True, inplace=True)\n",
    "'''And renaming the columns'''\n",
    "df_all_tad_boundaries_beforeMerging.rename(columns=dict(zip(df_all_tad_boundaries_beforeMerging.columns, ['chrom', 'start', 'stop'])), inplace=True)\n",
    "print(df_all_tad_boundaries_beforeMerging.shape)\n",
    "df_all_tad_boundaries_beforeMerging.head(2)"
   ]
  },
  {
   "cell_type": "code",
   "execution_count": 10,
   "metadata": {},
   "outputs": [
    {
     "data": {
      "text/plain": [
       "{40000}"
      ]
     },
     "execution_count": 10,
     "metadata": {},
     "output_type": "execute_result"
    }
   ],
   "source": [
    "'''Note that all tad boundaries are of size 40kb'''\n",
    "set(df_all_tad_boundaries_beforeMerging[\"stop\"] - df_all_tad_boundaries_beforeMerging[\"start\"])"
   ]
  },
  {
   "cell_type": "markdown",
   "metadata": {},
   "source": [
    "## Plot sizes of the tad domains before merging the TAD boundaries"
   ]
  },
  {
   "cell_type": "code",
   "execution_count": 11,
   "metadata": {},
   "outputs": [
    {
     "name": "stdout",
     "output_type": "stream",
     "text": [
      "('Total number of TAD domains:', 47145)\n",
      "('There is a total of ', 502, ' TAD domains over 1mb')\n",
      "('There is a total of ', 29, ' TAD domains over 2mb')\n"
     ]
    }
   ],
   "source": [
    "'''Compute the TAD sizes'''\n",
    "df_all_tad_boundaries_beforeMerging[\"mid\"] = (df_all_tad_boundaries_beforeMerging[\"stop\"] + df_all_tad_boundaries_beforeMerging[\"start\"])/2\n",
    "\n",
    "tad_domain_sizes = [] # note: this has to be chromosome specific\n",
    "for thisChr in set(df_all_tad_boundaries_beforeMerging[\"chrom\"]):\n",
    "    df_all_tads_thisChr = df_all_tad_boundaries_beforeMerging[df_all_tad_boundaries_beforeMerging[\"chrom\"] == thisChr]\n",
    "    tad_boundary_mids = df_all_tads_thisChr[\"mid\"].tolist()\n",
    "    tad_domain_sizes += [tad_boundary_mids[i+1] - tad_boundary_mids[i] for i in range(0, len(tad_boundary_mids)-1)]\n",
    "\n",
    "print(\"Total number of TAD domains:\", len(tad_domain_sizes))\n",
    "print(\"There is a total of \", len([x for x in tad_domain_sizes if x > 1000000]), \" TAD domains over 1mb\")\n",
    "print(\"There is a total of \", len([x for x in tad_domain_sizes if x > 2000000]), \" TAD domains over 2mb\")"
   ]
  },
  {
   "cell_type": "code",
   "execution_count": 12,
   "metadata": {},
   "outputs": [
    {
     "name": "stdout",
     "output_type": "stream",
     "text": [
      "There's a total of 16725 non-zero unmerged TAD domains.\n"
     ]
    }
   ],
   "source": [
    "# Note the TAD boundaries are not merged Yet. So, a lot of \"0.0 bp\" TAD domain sizes \n",
    "# are expected, which is misleading, and should be removed for pre-merging analyses.\n",
    "nz_tad_domain_sizes = [x for x in tad_domain_sizes if x > 0]\n",
    "print(\"There's a total of {} non-zero unmerged TAD domains.\".format(len(nz_tad_domain_sizes)))"
   ]
  },
  {
   "cell_type": "code",
   "execution_count": 13,
   "metadata": {},
   "outputs": [
    {
     "data": {
      "text/plain": [
       "Text(0,0.5,u'Density')"
      ]
     },
     "execution_count": 13,
     "metadata": {},
     "output_type": "execute_result"
    },
    {
     "data": {
      "image/png": "[encoded data removed]",
      "text/plain": [
       "<matplotlib.figure.Figure at 0x10bf6e9d0>"
      ]
     },
     "metadata": {},
     "output_type": "display_data"
    }
   ],
   "source": [
    "'''Plot the statistics of TAD sizes'''\n",
    "avg_size = np.mean(nz_tad_domain_sizes)\n",
    "med_size = np.median(nz_tad_domain_sizes)\n",
    "std_size = np.std(nz_tad_domain_sizes)\n",
    "\n",
    "sns.kdeplot(np.array(nz_tad_domain_sizes))\n",
    "title = \"Before Merging - only considering non-zero TAD domains\\n Mean:{}, Median:{},\\\n",
    "Stdev:{}\".format(round(avg_size,2), round(med_size, 2), round(std_size,2))\n",
    "plt.title(title)\n",
    "plt.xlabel(\"Sizes of TAD domains\")\n",
    "plt.ylabel(\"Density\")"
   ]
  },
  {
   "cell_type": "markdown",
   "metadata": {},
   "source": [
    "#### Note that the median size of 40kb suggests that a lot of TAD boundaries are adjacent/abutting each other across the cell types. (These will be merged by default \"-d 0\" mergeBed option later.)"
   ]
  },
  {
   "cell_type": "markdown",
   "metadata": {},
   "source": [
    "## Plot sizes of the tad domains after merging the TAD boundaries\n",
    "#### Note, here we will merge overlapping or abutting TAD boundaries. Additionally, we will only consider those merged boundaries that are present in at least 20% (>= 4 out of 21) of the cell types."
   ]
  },
  {
   "cell_type": "code",
   "execution_count": 14,
   "metadata": {},
   "outputs": [
    {
     "name": "stdout",
     "output_type": "stream",
     "text": [
      "There's a total of 5870 merged tad boundaries\n",
      "chr1\t2400000\t2440000\t1\n",
      " chr1\t2560000\t2600000\t1\n",
      " chr1\t3320000\t3600000\t13\n",
      " "
     ]
    }
   ],
   "source": [
    "'''Generate a bed list of merged tad boundaries'''\n",
    "bed_all_tad_boundaries_merged = bedtools.from_dataframe(df_all_tad_boundaries_beforeMerging[[\"chrom\", \"start\", \"stop\", \"mid\"]]).sort().merge(c=1, o=\"count\").saveas(\"all_tad_boundaries_afterMerging_notFiltdByN.bed\")\n",
    "print(\"There's a total of {} merged tad boundaries\".format(bed_all_tad_boundaries_merged.count()))\n",
    "bed_all_tad_boundaries_merged.head(3)  # Note the peak-mid column gets ignored by mergeBed."
   ]
  },
  {
   "cell_type": "code",
   "execution_count": 15,
   "metadata": {},
   "outputs": [
    {
     "name": "stdout",
     "output_type": "stream",
     "text": [
      "After filtering by the number of cell types with boundaries merged, there is a total of 3081 merged tad boundaries.\n"
     ]
    },
    {
     "data": {
      "text/html": [
       "<div>\n",
       "<style>\n",
       "    .dataframe thead tr:only-child th {\n",
       "        text-align: right;\n",
       "    }\n",
       "\n",
       "    .dataframe thead th {\n",
       "        text-align: left;\n",
       "    }\n",
       "\n",
       "    .dataframe tbody tr th {\n",
       "        vertical-align: top;\n",
       "    }\n",
       "</style>\n",
       "<table border=\"1\" class=\"dataframe\">\n",
       "  <thead>\n",
       "    <tr style=\"text-align: right;\">\n",
       "      <th></th>\n",
       "      <th>chrom</th>\n",
       "      <th>start</th>\n",
       "      <th>stop</th>\n",
       "      <th>count</th>\n",
       "    </tr>\n",
       "  </thead>\n",
       "  <tbody>\n",
       "    <tr>\n",
       "      <th>2</th>\n",
       "      <td>chr1</td>\n",
       "      <td>3320000</td>\n",
       "      <td>3600000</td>\n",
       "      <td>13</td>\n",
       "    </tr>\n",
       "    <tr>\n",
       "      <th>3</th>\n",
       "      <td>chr1</td>\n",
       "      <td>3640000</td>\n",
       "      <td>3800000</td>\n",
       "      <td>6</td>\n",
       "    </tr>\n",
       "  </tbody>\n",
       "</table>\n",
       "</div>"
      ],
      "text/plain": [
       "  chrom    start     stop  count\n",
       "2  chr1  3320000  3600000     13\n",
       "3  chr1  3640000  3800000      6"
      ]
     },
     "execution_count": 15,
     "metadata": {},
     "output_type": "execute_result"
    }
   ],
   "source": [
    "'''Convert it to merged tad boundary df'''\n",
    "df_all_tad_boundaries_merged = pd.read_table(bed_all_tad_boundaries_merged.fn, names=[\"chrom\", \"start\", \"stop\", \"count\"]) \n",
    "df_all_tad_boundaries_merged_filtdByN = df_all_tad_boundaries_merged[df_all_tad_boundaries_merged[\"count\"]>=num_celltypes_tad_boundary_threshold]\n",
    "print(\"After filtering by the number of cell types with boundaries merged, there is a total of \\\n",
    "{} merged tad boundaries.\".format(df_all_tad_boundaries_merged_filtdByN.shape[0]))\n",
    "df_all_tad_boundaries_merged_filtdByN.head(2)"
   ]
  },
  {
   "cell_type": "markdown",
   "metadata": {},
   "source": [
    "#### Note that the number of TAD boundaries has decreased by about 2000 after filtering by N (or count) of cell types with boundaries merged, suggesting the TAD domains will be larger on average."
   ]
  },
  {
   "cell_type": "code",
   "execution_count": 16,
   "metadata": {},
   "outputs": [
    {
     "name": "stdout",
     "output_type": "stream",
     "text": [
      "Total number of TAD domains:3058. This is 23 less than total number of TAD boundaries.\n",
      "('There is a total of ', 1062, ' TAD domains over 1mb')\n",
      "('There is a total of ', 141, ' TAD domains over 2mb')\n"
     ]
    },
    {
     "name": "stderr",
     "output_type": "stream",
     "text": [
      "/Users/Dinesh/anaconda/lib/python2.7/site-packages/ipykernel_launcher.py:1: SettingWithCopyWarning: \n",
      "A value is trying to be set on a copy of a slice from a DataFrame.\n",
      "Try using .loc[row_indexer,col_indexer] = value instead\n",
      "\n",
      "See the caveats in the documentation: http://pandas.pydata.org/pandas-docs/stable/indexing.html#indexing-view-versus-copy\n",
      "  \"\"\"Entry point for launching an IPython kernel.\n"
     ]
    }
   ],
   "source": [
    "df_all_tad_boundaries_merged_filtdByN[\"mid\"] = (df_all_tad_boundaries_merged_filtdByN[\"stop\"] + df_all_tad_boundaries_merged_filtdByN[\"start\"])/2\n",
    "\n",
    "tad_sizes_merged = [] # note: this has to be chromosome specific\n",
    "for thisChr in set(df_all_tad_boundaries_merged_filtdByN[\"chrom\"]):\n",
    "    df_all_tads_merged_thisChr = df_all_tad_boundaries_merged_filtdByN[df_all_tad_boundaries_merged_filtdByN[\"chrom\"] == thisChr]\n",
    "    tad_mids = df_all_tads_merged_thisChr[\"mid\"].tolist()\n",
    "    tad_sizes_merged += [tad_mids[i+1] - tad_mids[i] for i in range(0, len(tad_mids)-1)]\n",
    "\n",
    "print(\"Total number of TAD domains:{}. This is 23 less than total number of TAD boundaries.\".format(len(tad_sizes_merged)))\n",
    "print(\"There is a total of \", len([x for x in tad_sizes_merged if x > 1000000]), \" TAD domains over 1mb\")\n",
    "print(\"There is a total of \", len([x for x in tad_sizes_merged if x > 2000000]), \" TAD domains over 2mb\")"
   ]
  },
  {
   "cell_type": "code",
   "execution_count": 17,
   "metadata": {},
   "outputs": [
    {
     "data": {
      "text/plain": [
       "Text(0,0.5,u'Density')"
      ]
     },
     "execution_count": 17,
     "metadata": {},
     "output_type": "execute_result"
    },
    {
     "data": {
      "image/png": "[encoded data removed]",
      "text/plain": [
       "<matplotlib.figure.Figure at 0x116c4b610>"
      ]
     },
     "metadata": {},
     "output_type": "display_data"
    }
   ],
   "source": [
    "avg_size_merged = np.mean(tad_sizes_merged)\n",
    "med_size_merged = np.median(tad_sizes_merged)\n",
    "std_size_merged = np.std(tad_sizes_merged)\n",
    "\n",
    "sns.kdeplot(np.array(tad_sizes_merged))\n",
    "title = \"After Merging - only considering TAD domains with boundaries in >={} cell types\\n Mean:{}, Median:{},\\\n",
    "Stdev:{} bps\".format(num_celltypes_tad_boundary_threshold, round(avg_size_merged,1), round(med_size_merged, 1), round(std_size_merged,1))\n",
    "plt.title(title)\n",
    "plt.xlabel(\"Sizes of TAD domains\")\n",
    "plt.ylabel(\"Density\")"
   ]
  },
  {
   "cell_type": "markdown",
   "metadata": {
    "collapsed": true
   },
   "source": [
    "## Now generate a TAD domain bed file (for merged TADs - also filtered by number of cell types with the TAD boundaries). \n",
    "** This will be used downstream to look for genes present in any given TAD.**"
   ]
  },
  {
   "cell_type": "code",
   "execution_count": 18,
   "metadata": {},
   "outputs": [
    {
     "data": {
      "text/html": [
       "<div>\n",
       "<style>\n",
       "    .dataframe thead tr:only-child th {\n",
       "        text-align: right;\n",
       "    }\n",
       "\n",
       "    .dataframe thead th {\n",
       "        text-align: left;\n",
       "    }\n",
       "\n",
       "    .dataframe tbody tr th {\n",
       "        vertical-align: top;\n",
       "    }\n",
       "</style>\n",
       "<table border=\"1\" class=\"dataframe\">\n",
       "  <thead>\n",
       "    <tr style=\"text-align: right;\">\n",
       "      <th></th>\n",
       "      <th>chrom</th>\n",
       "      <th>start</th>\n",
       "      <th>end</th>\n",
       "      <th>n</th>\n",
       "      <th>len</th>\n",
       "      <th>type</th>\n",
       "      <th>bridge</th>\n",
       "    </tr>\n",
       "  </thead>\n",
       "  <tbody>\n",
       "    <tr>\n",
       "      <th>0</th>\n",
       "      <td>chr1</td>\n",
       "      <td>0</td>\n",
       "      <td>10000</td>\n",
       "      <td>N</td>\n",
       "      <td>10000</td>\n",
       "      <td>telomere</td>\n",
       "      <td>no</td>\n",
       "    </tr>\n",
       "    <tr>\n",
       "      <th>1</th>\n",
       "      <td>chr1</td>\n",
       "      <td>177417</td>\n",
       "      <td>227417</td>\n",
       "      <td>N</td>\n",
       "      <td>50000</td>\n",
       "      <td>clone</td>\n",
       "      <td>yes</td>\n",
       "    </tr>\n",
       "    <tr>\n",
       "      <th>2</th>\n",
       "      <td>chr1</td>\n",
       "      <td>267719</td>\n",
       "      <td>317719</td>\n",
       "      <td>N</td>\n",
       "      <td>50000</td>\n",
       "      <td>contig</td>\n",
       "      <td>no</td>\n",
       "    </tr>\n",
       "    <tr>\n",
       "      <th>3</th>\n",
       "      <td>chr1</td>\n",
       "      <td>471368</td>\n",
       "      <td>521368</td>\n",
       "      <td>N</td>\n",
       "      <td>50000</td>\n",
       "      <td>contig</td>\n",
       "      <td>no</td>\n",
       "    </tr>\n",
       "    <tr>\n",
       "      <th>4</th>\n",
       "      <td>chr1</td>\n",
       "      <td>2634220</td>\n",
       "      <td>2684220</td>\n",
       "      <td>N</td>\n",
       "      <td>50000</td>\n",
       "      <td>clone</td>\n",
       "      <td>yes</td>\n",
       "    </tr>\n",
       "  </tbody>\n",
       "</table>\n",
       "</div>"
      ],
      "text/plain": [
       "  chrom    start      end  n    len      type bridge\n",
       "0  chr1        0    10000  N  10000  telomere     no\n",
       "1  chr1   177417   227417  N  50000     clone    yes\n",
       "2  chr1   267719   317719  N  50000    contig     no\n",
       "3  chr1   471368   521368  N  50000    contig     no\n",
       "4  chr1  2634220  2684220  N  50000     clone    yes"
      ]
     },
     "execution_count": 18,
     "metadata": {},
     "output_type": "execute_result"
    }
   ],
   "source": [
    "'''First get the telomere locations from the hg19.gaps.txt'''\n",
    "df_hg19_gaps = pd.read_csv(hg19_gapFile, sep=\"\\t\", header=None)\n",
    "df_hg19_gaps.columns = [\"chrom\", \"start\", \"end\", \"n\", \"len\", \"type\", \"bridge\"]\n",
    "df_hg19_gaps.head()"
   ]
  },
  {
   "cell_type": "code",
   "execution_count": 19,
   "metadata": {
    "collapsed": true
   },
   "outputs": [],
   "source": [
    "'''generate a TAD domain bed file. Also add the first and last TAD domains (subtracting the telomere regions)'''\n",
    "\n",
    "df_tads_frames = [] # a list of df_tads for chromosomes\n",
    "\n",
    "for thisChr in set(df_all_tad_boundaries_merged[\"chrom\"]):\n",
    "    df_tad_boundaries_x = df_all_tad_boundaries_merged_filtdByN[df_all_tad_boundaries_merged_filtdByN[\"chrom\"] == thisChr]\n",
    "    tads_x = [[thisChr, int(list(df_tad_boundaries_x[\"mid\"])[i-1]), int(list(df_tad_boundaries_x[\"mid\"])[i])] for i in range(1, df_tad_boundaries_x.shape[0])]\n",
    "\n",
    "    # add the first and the last TAD domains (minus telomeres)\n",
    "    tads_x = [[thisChr, 10000, tads_x[0][1]]] + tads_x  # adding the first TAD domain (10kb b/c 0-10kb is telemore for all chroms)\n",
    "    try:\n",
    "        last_boundary_x = int(df_hg19_gaps[(df_hg19_gaps[\"type\"] == \"telomere\") &\n",
    "                    (df_hg19_gaps[\"chrom\"] == thisChr) &\n",
    "                    (df_hg19_gaps[\"start\"] > 0)][\"start\"])\n",
    "    except:\n",
    "        assert thisChr == \"chr17\"  # chr17 info is not in the hg19.gaps.txt\n",
    "        last_boundary_x = chr17_size - 10000\n",
    "    if (tads_x[-1][-1] < last_boundary_x):\n",
    "        tads_x += [[thisChr, tads_x[-1][-1], last_boundary_x]]  # adding the last TAD domain\n",
    "    else:\n",
    "        print(\"Shrinking the last TAD for {} to remove telomere\".format(thisChr))\n",
    "        tads_x[-1][-2] < last_boundary_x\n",
    "        tads_x[-1][-1] = last_boundary_x\n",
    "\n",
    "    df_tads_x = pd.DataFrame.from_records(tads_x, columns = [\"chrom\", \"start\", \"stop\"])\n",
    "    df_tads_frames.append(df_tads_x)\n",
    "\n",
    "# chrY is not accounted for yet. \n",
    "df_tads_x = pd.DataFrame.from_records([[\"chrY\", 10000, chrY_size-10000]], columns = [\"chrom\", \"start\", \"stop\"])\n",
    "df_tads_frames.append(df_tads_x)\n",
    "\n",
    "df_tads = pd.concat(df_tads_frames)"
   ]
  },
  {
   "cell_type": "code",
   "execution_count": 20,
   "metadata": {},
   "outputs": [
    {
     "name": "stdout",
     "output_type": "stream",
     "text": [
      "(3105, 3)\n"
     ]
    },
    {
     "data": {
      "text/html": [
       "<div>\n",
       "<style>\n",
       "    .dataframe thead tr:only-child th {\n",
       "        text-align: right;\n",
       "    }\n",
       "\n",
       "    .dataframe thead th {\n",
       "        text-align: left;\n",
       "    }\n",
       "\n",
       "    .dataframe tbody tr th {\n",
       "        vertical-align: top;\n",
       "    }\n",
       "</style>\n",
       "<table border=\"1\" class=\"dataframe\">\n",
       "  <thead>\n",
       "    <tr style=\"text-align: right;\">\n",
       "      <th></th>\n",
       "      <th>chrom</th>\n",
       "      <th>start</th>\n",
       "      <th>stop</th>\n",
       "    </tr>\n",
       "  </thead>\n",
       "  <tbody>\n",
       "    <tr>\n",
       "      <th>0</th>\n",
       "      <td>chrX</td>\n",
       "      <td>10000</td>\n",
       "      <td>5900000</td>\n",
       "    </tr>\n",
       "    <tr>\n",
       "      <th>1</th>\n",
       "      <td>chrX</td>\n",
       "      <td>5900000</td>\n",
       "      <td>6120000</td>\n",
       "    </tr>\n",
       "  </tbody>\n",
       "</table>\n",
       "</div>"
      ],
      "text/plain": [
       "  chrom    start     stop\n",
       "0  chrX    10000  5900000\n",
       "1  chrX  5900000  6120000"
      ]
     },
     "execution_count": 20,
     "metadata": {},
     "output_type": "execute_result"
    }
   ],
   "source": [
    "print(df_tads.shape)\n",
    "df_tads.head(2)"
   ]
  },
  {
   "cell_type": "markdown",
   "metadata": {
    "collapsed": true
   },
   "source": [
    "### Removing those TADs that overlap centromeres. "
   ]
  },
  {
   "cell_type": "code",
   "execution_count": 21,
   "metadata": {},
   "outputs": [
    {
     "name": "stdout",
     "output_type": "stream",
     "text": [
      "There is a total of 3081 TAD domains that do not overlap the centromeres. Note that this is exactly the total number of TADs so far minus the total numberof chromosomes (including chrY) \n"
     ]
    }
   ],
   "source": [
    "df_gaps_hg19_centr = df_hg19_gaps[(df_hg19_gaps[\"type\"] == \"centromere\")]\n",
    "\n",
    "# selecting TADs that don't overlap the centromeres\n",
    "bed_tads_nogaps = bedtools.from_dataframe(df_tads).intersect(bedtools.from_dataframe(df_gaps_hg19_centr), v=True).sort()\n",
    "print(\"There is a total of {} TAD domains that do not overlap the centromeres. \\\n",
    "Note that this is exactly the total number of TADs so far minus the total number\\\n",
    "of chromosomes (including chrY) \".format(bed_tads_nogaps.count()))"
   ]
  },
  {
   "cell_type": "markdown",
   "metadata": {},
   "source": [
    "## Save the tad domain bed file, and plot the final distribution of TAD domain lengths."
   ]
  },
  {
   "cell_type": "code",
   "execution_count": 22,
   "metadata": {},
   "outputs": [
    {
     "data": {
      "text/plain": [
       "Text(0,0.5,u'Density')"
      ]
     },
     "execution_count": 22,
     "metadata": {},
     "output_type": "execute_result"
    },
    {
     "data": {
      "image/png": "[encoded data removed]",
      "text/plain": [
       "<matplotlib.figure.Figure at 0x1174c06d0>"
      ]
     },
     "metadata": {},
     "output_type": "display_data"
    }
   ],
   "source": [
    "bed_tads_nogaps.saveas(\"tad_domains_nIs{}celltypes_noCentrTelo.bed\".format(num_celltypes_tad_boundary_threshold))\n",
    "\n",
    "df_tads_nogaps = pd.read_table(bed_tads_nogaps.fn, names=[\"chrom\", \"start\", \"stop\"]) # note: \"no_gaps\" only mean no centr and no telo\n",
    "tad_domain_sizes = df_tads_nogaps[\"stop\"] - df_tads_nogaps[\"start\"]\n",
    "\n",
    "sns.kdeplot(np.array(tad_domain_sizes))\n",
    "plt.title(\"For TADs 1) with boundaries present in more than {} cell types,\\n and 2) not overlapping telo-/centro-meres\".format(num_celltypes_tad_boundary_threshold)) \n",
    "plt.xlabel(\"Basepairs\")\n",
    "plt.ylabel(\"Density\")"
   ]
  },
  {
   "cell_type": "code",
   "execution_count": 23,
   "metadata": {
    "collapsed": true
   },
   "outputs": [],
   "source": [
    "### - EOF - "
   ]
  },
  {
   "cell_type": "code",
   "execution_count": null,
   "metadata": {
    "collapsed": true
   },
   "outputs": [],
   "source": []
  }
 ],
 "metadata": {
  "kernelspec": {
   "display_name": "Python 2",
   "language": "python",
   "name": "python2"
  },
  "language_info": {
   "codemirror_mode": {
    "name": "ipython",
    "version": 2
   },
   "file_extension": ".py",
   "mimetype": "text/x-python",
   "name": "python",
   "nbconvert_exporter": "python",
   "pygments_lexer": "ipython2",
   "version": "2.7.13"
  }
 },
 "nbformat": 4,
 "nbformat_minor": 1
}
