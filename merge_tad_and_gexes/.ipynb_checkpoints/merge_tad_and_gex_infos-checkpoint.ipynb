{
 "cells": [
  {
   "cell_type": "code",
   "execution_count": 1,
   "metadata": {},
   "outputs": [
    {
     "data": {
      "text/plain": [
       "'Created on Jan 4, 2018\\n\\nMerge TAD info, gene location and name info, and gexes across roadmap samples in a single dataframe.\\n\\nNote that for the roadmap samples E001-E129, hg19 refseq genes were used (counting to ~27k). However, \\nthe annotation file is not used because the merged gex file has both the \\nlocation of TSS+/-500bp and gene names present.\\n'"
      ]
     },
     "execution_count": 1,
     "metadata": {},
     "output_type": "execute_result"
    }
   ],
   "source": [
    "'''Created on Jan 4, 2018\n",
    "\n",
    "Merge TAD info, gene location and name info, and gexes across roadmap samples in a single dataframe.\n",
    "\n",
    "Note that for the roadmap samples E001-E129, hg19 refseq genes were used (counting to ~27k). However, \n",
    "the annotation file is not used because the merged gex file has both the \n",
    "location of TSS+/-500bp and gene names present.\n",
    "'''"
   ]
  },
  {
   "cell_type": "code",
   "execution_count": 2,
   "metadata": {
    "collapsed": true
   },
   "outputs": [],
   "source": [
    "import pandas as pd\n",
    "import os\n",
    "import re\n",
    "import collections as col\n",
    "import pybedtools\n",
    "from pybedtools import BedTool as bedtools\n",
    "\n",
    "csv_gex = os.path.abspath(\"../pooling_roadmap_gexes/roadmap.rnase_imputed.LogRPKM.signal.txt\")\n",
    "csv_tad = os.path.abspath(\"../getting_tad_domains/tad_domains_nIs4celltypes_noCentrTelo.bed\")"
   ]
  },
  {
   "cell_type": "code",
   "execution_count": 3,
   "metadata": {},
   "outputs": [
    {
     "name": "stdout",
     "output_type": "stream",
     "text": [
      "(27544, 129)\n"
     ]
    }
   ],
   "source": [
    "df_gex = pd.read_csv(csv_gex, sep=\"\\t\", header=0)\n",
    "print(df_gex.shape )"
   ]
  },
  {
   "cell_type": "code",
   "execution_count": 4,
   "metadata": {
    "collapsed": true
   },
   "outputs": [],
   "source": [
    "'''Get df_locs and bed_locs with gene loc info'''\n",
    "locs = [re.split(\":|-\", x) for x in df_gex[\"loc\"].tolist()]\n",
    "locs = [[x[0], int(x[1]), int(x[2])] for x in locs]\n",
    "df_locs = pd.DataFrame.from_records(locs, columns=[\"chrom\", \"tss_us\", \"tss_ds\"])\n",
    "bed_locs = bedtools.from_dataframe(df_locs)"
   ]
  },
  {
   "cell_type": "code",
   "execution_count": 5,
   "metadata": {},
   "outputs": [
    {
     "name": "stdout",
     "output_type": "stream",
     "text": [
      "(3081, 3)\n"
     ]
    },
    {
     "data": {
      "text/html": [
       "<div>\n",
       "<style>\n",
       "    .dataframe thead tr:only-child th {\n",
       "        text-align: right;\n",
       "    }\n",
       "\n",
       "    .dataframe thead th {\n",
       "        text-align: left;\n",
       "    }\n",
       "\n",
       "    .dataframe tbody tr th {\n",
       "        vertical-align: top;\n",
       "    }\n",
       "</style>\n",
       "<table border=\"1\" class=\"dataframe\">\n",
       "  <thead>\n",
       "    <tr style=\"text-align: right;\">\n",
       "      <th></th>\n",
       "      <th>chrom</th>\n",
       "      <th>tad_ss</th>\n",
       "      <th>tad_es</th>\n",
       "    </tr>\n",
       "  </thead>\n",
       "  <tbody>\n",
       "    <tr>\n",
       "      <th>0</th>\n",
       "      <td>chr1</td>\n",
       "      <td>10000</td>\n",
       "      <td>3460000</td>\n",
       "    </tr>\n",
       "    <tr>\n",
       "      <th>1</th>\n",
       "      <td>chr1</td>\n",
       "      <td>3460000</td>\n",
       "      <td>3720000</td>\n",
       "    </tr>\n",
       "  </tbody>\n",
       "</table>\n",
       "</div>"
      ],
      "text/plain": [
       "  chrom   tad_ss   tad_es\n",
       "0  chr1    10000  3460000\n",
       "1  chr1  3460000  3720000"
      ]
     },
     "execution_count": 5,
     "metadata": {},
     "output_type": "execute_result"
    }
   ],
   "source": [
    "'''Get the df_tads with tad_locs'''\n",
    "df_tads = pd.read_csv(csv_tad, sep=\"\\t\", header=None, names=[\"chrom\", \"tad_ss\", \"tad_es\"]) \n",
    "print(df_tads.shape)\n",
    "df_tads.head(2)"
   ]
  },
  {
   "cell_type": "code",
   "execution_count": 6,
   "metadata": {
    "collapsed": true
   },
   "outputs": [],
   "source": [
    "'''Helper function to compact list representation of location to string.'''\n",
    "def compact_aloclist(aloc):\n",
    "    # aloc is of form: [\"chr1\", 3242, 3525], for instance\n",
    "    aloc = [str(x) for x in aloc] \n",
    "    aloc = aloc[0]+\":\"+aloc[1]+\"-\"+aloc[2]\n",
    "    return aloc"
   ]
  },
  {
   "cell_type": "code",
   "execution_count": 7,
   "metadata": {},
   "outputs": [
    {
     "name": "stdout",
     "output_type": "stream",
     "text": [
      "tad index:0\n",
      "tad index:200\n",
      "tad index:400\n",
      "tad index:600\n",
      "tad index:800\n",
      "tad index:1000\n",
      "tad index:1200\n",
      "tad index:1400\n",
      "tad index:1600\n",
      "tad index:1800\n",
      "tad index:2000\n",
      "tad index:2200\n",
      "tad index:2400\n",
      "tad index:2600\n",
      "tad index:2800\n",
      "tad index:3000\n"
     ]
    }
   ],
   "source": [
    "'''Get tss_loc to tad_loc map for each gene.'''\n",
    "dict_loc_to_tad = col.OrderedDict()\n",
    "for ix in df_tads.index:\n",
    "    bed_atad = bedtools(\"\\t\".join([str(x) for x in df_tads.iloc[ix].tolist()]), from_string=True) \n",
    "    bed_locs_in_atad = bed_atad.intersect(bed_locs, wb=True)\n",
    "    df_locs_in_atad = pd.read_table(bed_locs_in_atad.fn, names=[\"chr\", \"ss_intersection\", \"es_intersection\", \"chrom\", \"ss\", \"es\"]) \n",
    "    df_locs_in_atad = df_locs_in_atad[[\"chrom\", \"ss\", \"es\"]]\n",
    "    atad = compact_aloclist(df_tads.iloc[ix].tolist())  # loc for the tad with aloc\n",
    "    for jx in df_locs_in_atad.index:\n",
    "        aloc = compact_aloclist(df_locs_in_atad.iloc[jx].tolist())  # loc for a tss+/-some kb\n",
    "        dict_loc_to_tad[aloc] = atad\n",
    "    if (ix % 200 == 0):\n",
    "        print(\"tad index:{}\".format(ix))"
   ]
  },
  {
   "cell_type": "code",
   "execution_count": 20,
   "metadata": {},
   "outputs": [
    {
     "name": "stdout",
     "output_type": "stream",
     "text": [
      "27068\n",
      "Note: df_gex has its shape (27544, 129). So about 500 TSSes do not have their TAD info. These overlap the centro- and telo-mere regions that were removed in the TAD dataframe.\n"
     ]
    }
   ],
   "source": [
    "print(len(dict_loc_to_tad.items()))\n",
    "print(\"Note: df_gex has its shape {}. So about 500 TSSes do not have their TAD info. \\\n",
    "These overlap the centro- and telo-mere regions that were removed in the \\\n",
    "TAD dataframe.\".format(df_gex.shape))"
   ]
  },
  {
   "cell_type": "code",
   "execution_count": 19,
   "metadata": {},
   "outputs": [],
   "source": [
    "'''Include the tad list into the df_gex - which will merge the dfs'''\n",
    "tads_inOrder = []\n",
    "locs_woTads = []  # contains about 500 locs/tsses without TAD info\n",
    "\n",
    "for aloc in df_gex[\"loc\"].tolist():\n",
    "    if (aloc in dict_loc_to_tad.keys()):\n",
    "        tads_inOrder.append(dict_loc_to_tad[aloc])\n",
    "    else:\n",
    "        locs_woTads.append(aloc)\n",
    "        tads_inOrder.append(\"-\")\n",
    "\n",
    "df_gex[\"TAD_loc\"] = tads_inOrder"
   ]
  },
  {
   "cell_type": "code",
   "execution_count": 33,
   "metadata": {},
   "outputs": [],
   "source": [
    "'''Reorder the columns'''\n",
    "df_gex = df_gex[[\"geneName\", \"loc\", \"TAD_loc\"]+df_gex.columns.tolist()[2:-1]]"
   ]
  },
  {
   "cell_type": "code",
   "execution_count": 35,
   "metadata": {},
   "outputs": [
    {
     "data": {
      "text/html": [
       "<div>\n",
       "<style>\n",
       "    .dataframe thead tr:only-child th {\n",
       "        text-align: right;\n",
       "    }\n",
       "\n",
       "    .dataframe thead th {\n",
       "        text-align: left;\n",
       "    }\n",
       "\n",
       "    .dataframe tbody tr th {\n",
       "        vertical-align: top;\n",
       "    }\n",
       "</style>\n",
       "<table border=\"1\" class=\"dataframe\">\n",
       "  <thead>\n",
       "    <tr style=\"text-align: right;\">\n",
       "      <th></th>\n",
       "      <th>geneName</th>\n",
       "      <th>loc</th>\n",
       "      <th>TAD_loc</th>\n",
       "      <th>E017_LNG.IMR90_IMR90</th>\n",
       "      <th>E002_ESC.WA7_ESC</th>\n",
       "      <th>E008_ESC.H9_ESC</th>\n",
       "      <th>E001_ESC.I3_ESC</th>\n",
       "      <th>E015_ESC.HUES6_ESC</th>\n",
       "      <th>E014_ESC.HUES48_ESC</th>\n",
       "      <th>E016_ESC.HUES64_ESC</th>\n",
       "      <th>...</th>\n",
       "      <th>E120_MUS.HSMM_ENCODE2012</th>\n",
       "      <th>E121_MUS.HSMMT_ENCODE2012</th>\n",
       "      <th>E122_VAS.HUVEC_ENCODE2012</th>\n",
       "      <th>E123_BLD.K562.CNCR_ENCODE2012</th>\n",
       "      <th>E124_BLD.CD14.MONO_ENCODE2012</th>\n",
       "      <th>E125_BRN.NHA_ENCODE2012</th>\n",
       "      <th>E126_SKIN.NHDFAD_ENCODE2012</th>\n",
       "      <th>E127_SKIN.NHEK_ENCODE2012</th>\n",
       "      <th>E128_LNG.NHLF_ENCODE2012</th>\n",
       "      <th>E129_BONE.OSTEO_ENCODE2012</th>\n",
       "    </tr>\n",
       "  </thead>\n",
       "  <tbody>\n",
       "    <tr>\n",
       "      <th>0</th>\n",
       "      <td>DDX11L1</td>\n",
       "      <td>chr1:11373-12373</td>\n",
       "      <td>chr1:10000-3460000</td>\n",
       "      <td>112.19</td>\n",
       "      <td>103.55</td>\n",
       "      <td>83.26</td>\n",
       "      <td>80.15</td>\n",
       "      <td>76.86</td>\n",
       "      <td>65.11</td>\n",
       "      <td>106.22</td>\n",
       "      <td>...</td>\n",
       "      <td>88.75</td>\n",
       "      <td>101.48</td>\n",
       "      <td>105.50</td>\n",
       "      <td>212.38</td>\n",
       "      <td>300.45</td>\n",
       "      <td>81.02</td>\n",
       "      <td>91.73</td>\n",
       "      <td>98.23</td>\n",
       "      <td>124.92</td>\n",
       "      <td>88.48</td>\n",
       "    </tr>\n",
       "    <tr>\n",
       "      <th>1</th>\n",
       "      <td>MIR6859-2</td>\n",
       "      <td>chr1:16936-17936</td>\n",
       "      <td>chr1:10000-3460000</td>\n",
       "      <td>2423.37</td>\n",
       "      <td>2169.75</td>\n",
       "      <td>2051.70</td>\n",
       "      <td>2119.40</td>\n",
       "      <td>2058.41</td>\n",
       "      <td>2070.94</td>\n",
       "      <td>2215.21</td>\n",
       "      <td>...</td>\n",
       "      <td>2230.61</td>\n",
       "      <td>2041.39</td>\n",
       "      <td>2249.71</td>\n",
       "      <td>2783.41</td>\n",
       "      <td>3069.73</td>\n",
       "      <td>2173.70</td>\n",
       "      <td>2248.84</td>\n",
       "      <td>2402.39</td>\n",
       "      <td>2787.36</td>\n",
       "      <td>2168.68</td>\n",
       "    </tr>\n",
       "    <tr>\n",
       "      <th>2</th>\n",
       "      <td>WASH7P</td>\n",
       "      <td>chr1:28870-29870</td>\n",
       "      <td>chr1:10000-3460000</td>\n",
       "      <td>300.15</td>\n",
       "      <td>436.45</td>\n",
       "      <td>395.85</td>\n",
       "      <td>353.00</td>\n",
       "      <td>383.25</td>\n",
       "      <td>385.55</td>\n",
       "      <td>332.05</td>\n",
       "      <td>...</td>\n",
       "      <td>316.50</td>\n",
       "      <td>275.80</td>\n",
       "      <td>311.40</td>\n",
       "      <td>346.30</td>\n",
       "      <td>385.75</td>\n",
       "      <td>313.15</td>\n",
       "      <td>301.25</td>\n",
       "      <td>334.80</td>\n",
       "      <td>333.45</td>\n",
       "      <td>287.70</td>\n",
       "    </tr>\n",
       "  </tbody>\n",
       "</table>\n",
       "<p>3 rows × 130 columns</p>\n",
       "</div>"
      ],
      "text/plain": [
       "    geneName               loc             TAD_loc  E017_LNG.IMR90_IMR90  \\\n",
       "0    DDX11L1  chr1:11373-12373  chr1:10000-3460000                112.19   \n",
       "1  MIR6859-2  chr1:16936-17936  chr1:10000-3460000               2423.37   \n",
       "2     WASH7P  chr1:28870-29870  chr1:10000-3460000                300.15   \n",
       "\n",
       "   E002_ESC.WA7_ESC  E008_ESC.H9_ESC  E001_ESC.I3_ESC  E015_ESC.HUES6_ESC  \\\n",
       "0            103.55            83.26            80.15               76.86   \n",
       "1           2169.75          2051.70          2119.40             2058.41   \n",
       "2            436.45           395.85           353.00              383.25   \n",
       "\n",
       "   E014_ESC.HUES48_ESC  E016_ESC.HUES64_ESC             ...              \\\n",
       "0                65.11               106.22             ...               \n",
       "1              2070.94              2215.21             ...               \n",
       "2               385.55               332.05             ...               \n",
       "\n",
       "   E120_MUS.HSMM_ENCODE2012  E121_MUS.HSMMT_ENCODE2012  \\\n",
       "0                     88.75                     101.48   \n",
       "1                   2230.61                    2041.39   \n",
       "2                    316.50                     275.80   \n",
       "\n",
       "   E122_VAS.HUVEC_ENCODE2012  E123_BLD.K562.CNCR_ENCODE2012  \\\n",
       "0                     105.50                         212.38   \n",
       "1                    2249.71                        2783.41   \n",
       "2                     311.40                         346.30   \n",
       "\n",
       "   E124_BLD.CD14.MONO_ENCODE2012  E125_BRN.NHA_ENCODE2012  \\\n",
       "0                         300.45                    81.02   \n",
       "1                        3069.73                  2173.70   \n",
       "2                         385.75                   313.15   \n",
       "\n",
       "   E126_SKIN.NHDFAD_ENCODE2012  E127_SKIN.NHEK_ENCODE2012  \\\n",
       "0                        91.73                      98.23   \n",
       "1                      2248.84                    2402.39   \n",
       "2                       301.25                     334.80   \n",
       "\n",
       "   E128_LNG.NHLF_ENCODE2012  E129_BONE.OSTEO_ENCODE2012  \n",
       "0                    124.92                       88.48  \n",
       "1                   2787.36                     2168.68  \n",
       "2                    333.45                      287.70  \n",
       "\n",
       "[3 rows x 130 columns]"
      ]
     },
     "execution_count": 35,
     "metadata": {},
     "output_type": "execute_result"
    }
   ],
   "source": [
    "df_gex.head(3)"
   ]
  },
  {
   "cell_type": "code",
   "execution_count": 37,
   "metadata": {},
   "outputs": [],
   "source": [
    "'''Save the merged df'''\n",
    "df_gex.to_csv(\"roadmap.rnase_imputed.LogRPKM.signal.mergedWTADlocs.txt\", sep=\"\\t\", header=True, index=False)"
   ]
  },
  {
   "cell_type": "code",
   "execution_count": null,
   "metadata": {
    "collapsed": true
   },
   "outputs": [],
   "source": [
    "# - EOF -"
   ]
  }
 ],
 "metadata": {
  "kernelspec": {
   "display_name": "Python 2",
   "language": "python",
   "name": "python2"
  },
  "language_info": {
   "codemirror_mode": {
    "name": "ipython",
    "version": 2
   },
   "file_extension": ".py",
   "mimetype": "text/x-python",
   "name": "python",
   "nbconvert_exporter": "python",
   "pygments_lexer": "ipython2",
   "version": "2.7.13"
  }
 },
 "nbformat": 4,
 "nbformat_minor": 2
}
