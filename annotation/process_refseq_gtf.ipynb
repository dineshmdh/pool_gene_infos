{
 "cells": [
  {
   "cell_type": "code",
   "execution_count": 38,
   "metadata": {
    "collapsed": true
   },
   "outputs": [],
   "source": [
    "'''\n",
    "Created on Nov 18, 2017\n",
    "\n",
    "Process refSeq gtf file.\n",
    "\n",
    "The refseq table schema is copied below:\n",
    "\n",
    " \tDatabase: hg19    Primary Table: refGene    Row Count: 69,703   Data last updated: 2017-11-13\n",
    "Format description: A gene prediction with some additional info.\n",
    "field\texample\tSQL type\tinfo\tdescription\n",
    "bin\t585\tsmallint(5) unsigned\trange\tIndexing field to speed chromosome range queries.\n",
    "name\tNR_148357\tvarchar(255)\tvalues\tName of gene (usually transcript_id from GTF)\n",
    "chrom\tchr1\tvarchar(255)\tvalues\tReference sequence chromosome or scaffold\n",
    "strand\t+\tchar(1)\tvalues\t+ or - for strand\n",
    "txStart\t11868\tint(10) unsigned\trange\tTranscription start position (or end position for minus strand item)\n",
    "txEnd\t14362\tint(10) unsigned\trange\tTranscription end position (or start position for minus strand item)\n",
    "cdsStart\t14362\tint(10) unsigned\trange\tCoding region start (or end position for minus strand item)\n",
    "cdsEnd\t14362\tint(10) unsigned\trange\tCoding region end (or start position for minus strand item)\n",
    "exonCount\t3\tint(10) unsigned\trange\tNumber of exons\n",
    "exonStarts\t11868,12612,13220,\tlongblob\t \tExon start positions (or end positions for minus strand item)\n",
    "exonEnds\t12227,12721,14362,\tlongblob\t \tExon end positions (or start positions for minus strand item)\n",
    "score\t0\tint(11)\trange\tscore\n",
    "name2\tLOC102725121\tvarchar(255)\tvalues\tAlternate name (e.g. gene_id from GTF)\n",
    "cdsStartStat\tunk\tenum('none', 'unk', 'incmpl', 'cmpl')\tvalues\tenum('none','unk','incmpl','cmpl')\n",
    "cdsEndStat\tunk\tenum('none', 'unk', 'incmpl', 'cmpl')\tvalues\tenum('none','unk','incmpl','cmpl')\n",
    "exonFrames\t-1,-1,-1,\tlongblob\t \tExon frame {0,1,2}, or -1 if no frame for exon\n",
    "\n",
    "Some additional info about refseq gtf is here: https://www.ncbi.nlm.nih.gov/refseq/about/\n",
    "\n",
    "Note: There are a total of 27957 unique gene_symbols (i.e. \"name2\" below) in this refseq df. \n",
    "'''\n",
    "\n",
    "import os\n",
    "import numpy as np\n",
    "import pandas as pd\n",
    "\n",
    "gtf_refseq = \"hg19.refSeqGenes.gtf\""
   ]
  },
  {
   "cell_type": "code",
   "execution_count": 13,
   "metadata": {},
   "outputs": [
    {
     "data": {
      "text/html": [
       "<div>\n",
       "<style>\n",
       "    .dataframe thead tr:only-child th {\n",
       "        text-align: right;\n",
       "    }\n",
       "\n",
       "    .dataframe thead th {\n",
       "        text-align: left;\n",
       "    }\n",
       "\n",
       "    .dataframe tbody tr th {\n",
       "        vertical-align: top;\n",
       "    }\n",
       "</style>\n",
       "<table border=\"1\" class=\"dataframe\">\n",
       "  <thead>\n",
       "    <tr style=\"text-align: right;\">\n",
       "      <th></th>\n",
       "      <th>#bin</th>\n",
       "      <th>name</th>\n",
       "      <th>chrom</th>\n",
       "      <th>strand</th>\n",
       "      <th>txStart</th>\n",
       "      <th>txEnd</th>\n",
       "      <th>cdsStart</th>\n",
       "      <th>cdsEnd</th>\n",
       "      <th>exonCount</th>\n",
       "      <th>exonStarts</th>\n",
       "      <th>exonEnds</th>\n",
       "      <th>score</th>\n",
       "      <th>name2</th>\n",
       "      <th>cdsStartStat</th>\n",
       "      <th>cdsEndStat</th>\n",
       "      <th>exonFrames</th>\n",
       "    </tr>\n",
       "  </thead>\n",
       "  <tbody>\n",
       "    <tr>\n",
       "      <th>0</th>\n",
       "      <td>0</td>\n",
       "      <td>NM_001350218</td>\n",
       "      <td>chr1</td>\n",
       "      <td>+</td>\n",
       "      <td>66999638</td>\n",
       "      <td>67216822</td>\n",
       "      <td>67000041</td>\n",
       "      <td>67208778</td>\n",
       "      <td>23</td>\n",
       "      <td>66999638,67091529,67098752,67105459,67108492,6...</td>\n",
       "      <td>67000051,67091593,67098777,67105516,67108547,6...</td>\n",
       "      <td>0</td>\n",
       "      <td>SGIP1</td>\n",
       "      <td>cmpl</td>\n",
       "      <td>cmpl</td>\n",
       "      <td>0,1,2,0,0,1,0,0,0,1,2,1,1,1,0,1,1,2,2,0,2,1,1,</td>\n",
       "    </tr>\n",
       "    <tr>\n",
       "      <th>1</th>\n",
       "      <td>0</td>\n",
       "      <td>NM_001350217</td>\n",
       "      <td>chr1</td>\n",
       "      <td>+</td>\n",
       "      <td>66999638</td>\n",
       "      <td>67216822</td>\n",
       "      <td>67000041</td>\n",
       "      <td>67208778</td>\n",
       "      <td>25</td>\n",
       "      <td>66999638,67091529,67098752,67099762,67105459,6...</td>\n",
       "      <td>67000051,67091593,67098777,67099846,67105516,6...</td>\n",
       "      <td>0</td>\n",
       "      <td>SGIP1</td>\n",
       "      <td>cmpl</td>\n",
       "      <td>cmpl</td>\n",
       "      <td>0,1,2,0,0,0,1,0,0,0,1,2,1,1,1,1,0,1,1,2,2,0,2,...</td>\n",
       "    </tr>\n",
       "    <tr>\n",
       "      <th>2</th>\n",
       "      <td>0</td>\n",
       "      <td>NM_001308203</td>\n",
       "      <td>chr1</td>\n",
       "      <td>+</td>\n",
       "      <td>66999251</td>\n",
       "      <td>67216822</td>\n",
       "      <td>67000041</td>\n",
       "      <td>67208778</td>\n",
       "      <td>22</td>\n",
       "      <td>66999251,66999928,67091529,67098752,67105459,6...</td>\n",
       "      <td>66999355,67000051,67091593,67098777,67105516,6...</td>\n",
       "      <td>0</td>\n",
       "      <td>SGIP1</td>\n",
       "      <td>cmpl</td>\n",
       "      <td>cmpl</td>\n",
       "      <td>-1,0,1,2,0,0,1,0,1,2,1,1,1,0,1,1,2,2,0,2,1,1,</td>\n",
       "    </tr>\n",
       "  </tbody>\n",
       "</table>\n",
       "</div>"
      ],
      "text/plain": [
       "   #bin          name chrom strand   txStart     txEnd  cdsStart    cdsEnd  \\\n",
       "0     0  NM_001350218  chr1      +  66999638  67216822  67000041  67208778   \n",
       "1     0  NM_001350217  chr1      +  66999638  67216822  67000041  67208778   \n",
       "2     0  NM_001308203  chr1      +  66999251  67216822  67000041  67208778   \n",
       "\n",
       "   exonCount                                         exonStarts  \\\n",
       "0         23  66999638,67091529,67098752,67105459,67108492,6...   \n",
       "1         25  66999638,67091529,67098752,67099762,67105459,6...   \n",
       "2         22  66999251,66999928,67091529,67098752,67105459,6...   \n",
       "\n",
       "                                            exonEnds  score  name2  \\\n",
       "0  67000051,67091593,67098777,67105516,67108547,6...      0  SGIP1   \n",
       "1  67000051,67091593,67098777,67099846,67105516,6...      0  SGIP1   \n",
       "2  66999355,67000051,67091593,67098777,67105516,6...      0  SGIP1   \n",
       "\n",
       "  cdsStartStat cdsEndStat                                         exonFrames  \n",
       "0         cmpl       cmpl     0,1,2,0,0,1,0,0,0,1,2,1,1,1,0,1,1,2,2,0,2,1,1,  \n",
       "1         cmpl       cmpl  0,1,2,0,0,0,1,0,0,0,1,2,1,1,1,1,0,1,1,2,2,0,2,...  \n",
       "2         cmpl       cmpl      -1,0,1,2,0,0,1,0,1,2,1,1,1,0,1,1,2,2,0,2,1,1,  "
      ]
     },
     "execution_count": 13,
     "metadata": {},
     "output_type": "execute_result"
    }
   ],
   "source": [
    "df = pd.read_csv(gtf_refseq, sep=\"\\t\", header=0)\n",
    "df.head(3)"
   ]
  },
  {
   "cell_type": "code",
   "execution_count": 14,
   "metadata": {},
   "outputs": [],
   "source": [
    "'''Get the tss, and tss +/- 500bp fields'''\n",
    "df[\"tss\"] = [x[0] if x[2] == \"+\" else x[1] for x in zip(df[\"txStart\"], df[\"txEnd\"], df[\"strand\"])]\n",
    "\n",
    "df[\"tss_m500bp\"] = df[\"tss\"] - 500\n",
    "df[\"tss_p500bp\"] = df[\"tss\"] + 500"
   ]
  },
  {
   "cell_type": "code",
   "execution_count": 24,
   "metadata": {},
   "outputs": [
    {
     "name": "stdout",
     "output_type": "stream",
     "text": [
      "(69703, 4)\n"
     ]
    }
   ],
   "source": [
    "df_tidied = df[[\"chrom\", \"tss_m500bp\", \"tss_p500bp\", \"name2\"]]  # same \"name2\" can have different \"name\" fields, so not including the latter\n",
    "print(df_tidied.shape)"
   ]
  },
  {
   "cell_type": "code",
   "execution_count": 35,
   "metadata": {},
   "outputs": [
    {
     "name": "stdout",
     "output_type": "stream",
     "text": [
      "('Note that close to half rows are removed by removing the duplicates. New shape is', (38923, 4))\n"
     ]
    }
   ],
   "source": [
    "'''Remove duplicates'''\n",
    "df_tidied = df_tidied.sort_values(by=[\"name2\"])\n",
    "df_tidied = df_tidied.drop_duplicates()\n",
    "print(\"Note that close to half rows are removed by removing the duplicates. New shape is\", df_tidied.shape)"
   ]
  },
  {
   "cell_type": "code",
   "execution_count": 49,
   "metadata": {},
   "outputs": [],
   "source": [
    "'''For the genes that are still not uniquified - and there are roughly 10k of them left - drop duplicates randomly.\n",
    "Idea from: https://stackoverflow.com/questions/22864878/dropping-duplicates-randomly'''\n",
    "idx = np.random.permutation(np.arange(len(df_tidied)))  \n",
    "df_tidied = df_tidied.iloc[idx].drop_duplicates(subset=\"name2\")\n",
    "'''Now sort by pos'''\n",
    "df_tidied = df_tidied.sort_values(by=[\"chrom\", \"tss_m500bp\"])\n",
    "print(df_tidied.shape)"
   ]
  },
  {
   "cell_type": "code",
   "execution_count": 52,
   "metadata": {},
   "outputs": [
    {
     "data": {
      "text/html": [
       "<div>\n",
       "<style>\n",
       "    .dataframe thead tr:only-child th {\n",
       "        text-align: right;\n",
       "    }\n",
       "\n",
       "    .dataframe thead th {\n",
       "        text-align: left;\n",
       "    }\n",
       "\n",
       "    .dataframe tbody tr th {\n",
       "        vertical-align: top;\n",
       "    }\n",
       "</style>\n",
       "<table border=\"1\" class=\"dataframe\">\n",
       "  <thead>\n",
       "    <tr style=\"text-align: right;\">\n",
       "      <th></th>\n",
       "      <th>chrom</th>\n",
       "      <th>tss_m500bp</th>\n",
       "      <th>tss_p500bp</th>\n",
       "      <th>name2</th>\n",
       "    </tr>\n",
       "  </thead>\n",
       "  <tbody>\n",
       "    <tr>\n",
       "      <th>1926</th>\n",
       "      <td>chr1</td>\n",
       "      <td>11373</td>\n",
       "      <td>12373</td>\n",
       "      <td>DDX11L1</td>\n",
       "    </tr>\n",
       "    <tr>\n",
       "      <th>1929</th>\n",
       "      <td>chr1</td>\n",
       "      <td>16936</td>\n",
       "      <td>17936</td>\n",
       "      <td>MIR6859-2</td>\n",
       "    </tr>\n",
       "    <tr>\n",
       "      <th>1927</th>\n",
       "      <td>chr1</td>\n",
       "      <td>28870</td>\n",
       "      <td>29870</td>\n",
       "      <td>WASH7P</td>\n",
       "    </tr>\n",
       "    <tr>\n",
       "      <th>1933</th>\n",
       "      <td>chr1</td>\n",
       "      <td>29865</td>\n",
       "      <td>30865</td>\n",
       "      <td>MIR1302-9</td>\n",
       "    </tr>\n",
       "    <tr>\n",
       "      <th>1932</th>\n",
       "      <td>chr1</td>\n",
       "      <td>29865</td>\n",
       "      <td>30865</td>\n",
       "      <td>MIR1302-2</td>\n",
       "    </tr>\n",
       "  </tbody>\n",
       "</table>\n",
       "</div>"
      ],
      "text/plain": [
       "     chrom  tss_m500bp  tss_p500bp      name2\n",
       "1926  chr1       11373       12373    DDX11L1\n",
       "1929  chr1       16936       17936  MIR6859-2\n",
       "1927  chr1       28870       29870     WASH7P\n",
       "1933  chr1       29865       30865  MIR1302-9\n",
       "1932  chr1       29865       30865  MIR1302-2"
      ]
     },
     "execution_count": 52,
     "metadata": {},
     "output_type": "execute_result"
    }
   ],
   "source": [
    "df_tidied.head()"
   ]
  },
  {
   "cell_type": "code",
   "execution_count": 54,
   "metadata": {
    "collapsed": true
   },
   "outputs": [],
   "source": [
    "df_tidied.to_csv(\"hg19.refSeqTSSs.pm500bp.txt\", sep=\"\\t\", header=None, index=None)"
   ]
  },
  {
   "cell_type": "code",
   "execution_count": null,
   "metadata": {
    "collapsed": true
   },
   "outputs": [],
   "source": []
  }
 ],
 "metadata": {
  "kernelspec": {
   "display_name": "Python 2",
   "language": "python",
   "name": "python2"
  },
  "language_info": {
   "codemirror_mode": {
    "name": "ipython",
    "version": 2
   },
   "file_extension": ".py",
   "mimetype": "text/x-python",
   "name": "python",
   "nbconvert_exporter": "python",
   "pygments_lexer": "ipython2",
   "version": "2.7.13"
  }
 },
 "nbformat": 4,
 "nbformat_minor": 2
}
